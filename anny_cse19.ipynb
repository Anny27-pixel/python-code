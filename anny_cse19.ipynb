{
 "cells": [
  {
   "cell_type": "markdown",
   "id": "numerous-consumption",
   "metadata": {},
   "source": [
    "<h1>About Flow Control<h1>"
   ]
  },
  {
   "cell_type": "markdown",
   "id": "veterinary-vermont",
   "metadata": {},
   "source": [
    "<h3>*What is flow control<h3>\n"
   ]
  },
  {
   "cell_type": "markdown",
   "id": "outstanding-parliament",
   "metadata": {},
   "source": [
    "<p>The statement which control execution flow at runtime are called flow control.The control flow of a Python program is regulated by conditional statements, loops, and function calls. Raising and handling exceptions also affects control flow.<p>"
   ]
  },
  {
   "cell_type": "markdown",
   "id": "vietnamese-gamma",
   "metadata": {},
   "source": [
    "<h3>List all flow control with example<h3>"
   ]
  },
  {
   "cell_type": "markdown",
   "id": "square-metropolitan",
   "metadata": {},
   "source": [
    "<p> 1.Sequential statements------>ex:<br> \n",
    "a=3<br>\n",
    "b=5<br>\n",
    "print(a+b)<br>\n",
    "\n",
    "when we print a,b and a+b ,it prints sequentially.<br>\n",
    "\n",
    "2.Conditional statements-----> ex: <br>\n",
    "    .if <br>\n",
    "    .if else <br>\n",
    "    .if elif else <br>\n",
    "    .if elif <br>\n",
    "    \n",
    "3.Iterative statements------->ex: for ,while<br>\n",
    "    \n",
    "4.Transfer statements-------->ex: break , continue<br> \n",
    "    <p>"
   ]
  },
  {
   "cell_type": "markdown",
   "id": "civic-signature",
   "metadata": {},
   "source": [
    "<h1>Conditional Statement<h1>"
   ]
  },
  {
   "cell_type": "markdown",
   "id": "trained-accent",
   "metadata": {},
   "source": [
    "<h3>What is conditional statements<h3>"
   ]
  },
  {
   "cell_type": "markdown",
   "id": "induced-baptist",
   "metadata": {},
   "source": [
    "<p>Conditional Satements in python programming are used to make decisions based on the conditions. Conditonal statements execute sequentially when there is no condition around the statements.If you put some condition for a block of  statements ,the execution flow may change based on the result evaluated by the condition. Mainly ,Conditional Statement in Python perform different computations or actions depending on whether a specific Boolean constraint evaluates to true or false.<p>"
   ]
  },
  {
   "cell_type": "markdown",
   "id": "relative-austria",
   "metadata": {},
   "source": [
    "<h3>Describe structure of conditional statement<h3>"
   ]
  },
  {
   "cell_type": "markdown",
   "id": "diagnostic-reunion",
   "metadata": {},
   "source": [
    "<p>In python programming language, we have 4 conditional statements.Like--<br>\n",
    "   1.Simple if statement<br>\n",
    "   2.if-else statement<br>\n",
    "   3.if-elif-else statement<br>\n",
    "   4.Nested if elif statement<br>"
   ]
  },
  {
   "cell_type": "markdown",
   "id": "second-universe",
   "metadata": {},
   "source": [
    "<p>if(condition 1):<br>\n",
    "....print statement 1<br>\n",
    "elif(condition 2):<br>\n",
    "....print statement 2<br>\n",
    "else:<br>\n",
    "....print statement<br>"
   ]
  },
  {
   "cell_type": "markdown",
   "id": "compatible-darwin",
   "metadata": {},
   "source": [
    "<h1>Problem 1<h1>\n",
    "    "
   ]
  },
  {
   "cell_type": "code",
   "execution_count": 3,
   "id": "nutritional-example",
   "metadata": {},
   "outputs": [
    {
     "name": "stdout",
     "output_type": "stream",
     "text": [
      "Enter a number :27\n",
      "Odd\n"
     ]
    }
   ],
   "source": [
    "num = int(input(\"Enter a number :\"))\n",
    "if(num % 2 == 0):\n",
    "    print(\"Even\")\n",
    "else:\n",
    "    print(\"Odd\")"
   ]
  },
  {
   "cell_type": "markdown",
   "id": "fallen-press",
   "metadata": {},
   "source": [
    "<h1>Problem 2<h1>"
   ]
  },
  {
   "cell_type": "markdown",
   "id": "worldwide-henry",
   "metadata": {},
   "source": [
    "<h3>Solution 1:<h3>"
   ]
  },
  {
   "cell_type": "code",
   "execution_count": 5,
   "id": "stainless-battle",
   "metadata": {},
   "outputs": [
    {
     "name": "stdout",
     "output_type": "stream",
     "text": [
      "Enter a number : 150\n",
      "Divisible\n"
     ]
    }
   ],
   "source": [
    "a=int(input(\"Enter a number : \"))\n",
    "if(a>=100 and a<200 and a%9):\n",
    "    print(\"Divisible\")\n",
    "else:\n",
    "    print(\"Not Divisible\")"
   ]
  },
  {
   "cell_type": "markdown",
   "id": "express-genre",
   "metadata": {},
   "source": [
    "<h3>solution 2<h3>"
   ]
  },
  {
   "cell_type": "code",
   "execution_count": 11,
   "id": "confused-letter",
   "metadata": {},
   "outputs": [
    {
     "name": "stdout",
     "output_type": "stream",
     "text": [
      "Enter a number :340\n",
      "Not Divisible\n"
     ]
    }
   ],
   "source": [
    "a=int(input(\"Enter a number :\"))\n",
    "if(a>=100 and a<=500 and a%7==0 and a%5==0):\n",
    "    print(\"Divisible\")\n",
    "else:\n",
    "    print(\"Not Divisible\")\n",
    "    "
   ]
  },
  {
   "cell_type": "markdown",
   "id": "medieval-forge",
   "metadata": {},
   "source": [
    "<h1>Problem 3<h1>"
   ]
  },
  {
   "cell_type": "code",
   "execution_count": 12,
   "id": "appropriate-roommate",
   "metadata": {},
   "outputs": [
    {
     "name": "stdout",
     "output_type": "stream",
     "text": [
      "Take a year :2020\n",
      "Leap Year\n"
     ]
    }
   ],
   "source": [
    "year= int(input(\"Take a year :\"))\n",
    "if(year%400==0):\n",
    "    print(\"Leap Year\")\n",
    "elif(year%2==0 and year%100 != 0):\n",
    "    print(\"Leap Year\")\n",
    "else:\n",
    "    print(\"Not Leap Year\")"
   ]
  },
  {
   "cell_type": "markdown",
   "id": "bulgarian-solomon",
   "metadata": {},
   "source": [
    "<h1>Problem 4 <h1>"
   ]
  },
  {
   "cell_type": "code",
   "execution_count": 18,
   "id": "conscious-saudi",
   "metadata": {},
   "outputs": [
    {
     "name": "stdout",
     "output_type": "stream",
     "text": [
      "Enter any arthmetic sign :+ ,- ,* ,/\n",
      "Enter first number :5\n",
      "Enter second number 3\n",
      "8\n",
      "2\n",
      "15\n",
      "1.6666666666666667\n"
     ]
    }
   ],
   "source": [
    "input1=input(\"Enter any arthmetic sign :\")\n",
    "input2=int(input(\"Enter first number :\"))\n",
    "input3=int(input(\"Enter second number \"))\n",
    "print(input2 + input3)\n",
    "print(input2 - input3)\n",
    "print(input2 * input3)\n",
    "print(input2 / input3)"
   ]
  },
  {
   "cell_type": "markdown",
   "id": "intelligent-township",
   "metadata": {},
   "source": [
    "<h1>Problem 5<h1>"
   ]
  },
  {
   "cell_type": "code",
   "execution_count": 22,
   "id": "outside-monthly",
   "metadata": {},
   "outputs": [
    {
     "name": "stdout",
     "output_type": "stream",
     "text": [
      "Enter a number :7\n",
      "Positive\n"
     ]
    }
   ],
   "source": [
    "num=int(input(\"Enter a number :\"))\n",
    "if(num>0):\n",
    "    print(\"Positive\")\n",
    "elif(num<0):\n",
    "    print(\"Negative\")\n",
    "else:\n",
    "    print(\"Zero\")"
   ]
  },
  {
   "cell_type": "markdown",
   "id": "understood-insert",
   "metadata": {},
   "source": [
    "<h1>problem 6<h1>"
   ]
  },
  {
   "cell_type": "code",
   "execution_count": 26,
   "id": "adult-runner",
   "metadata": {},
   "outputs": [
    {
     "name": "stdout",
     "output_type": "stream",
     "text": [
      "Enter length :5\n",
      "Enter breadth :5\n",
      "it is a square\n"
     ]
    }
   ],
   "source": [
    "l=int(input(\"Enter length :\"))\n",
    "b=int(input(\"Enter breadth :\"))\n",
    "if(l==b):\n",
    "    print(\"it is a square\")\n",
    "else:\n",
    "    print(\"it is not a square\")"
   ]
  },
  {
   "cell_type": "markdown",
   "id": "spiritual-hindu",
   "metadata": {},
   "source": [
    "<h1>Problem 7<h1>"
   ]
  },
  {
   "cell_type": "code",
   "execution_count": 7,
   "id": "hybrid-daughter",
   "metadata": {},
   "outputs": [
    {
     "name": "stdout",
     "output_type": "stream",
     "text": [
      "Enter first number :5\n",
      "Enter second number :3\n",
      "Enter third number :9\n",
      "The highest number is :9\n",
      "The lowest number is :3\n"
     ]
    }
   ],
   "source": [
    "a=int(input(\"Enter first number :\"))\n",
    "b=int(input(\"Enter second number :\"))\n",
    "c=int(input(\"Enter third number :\"))\n",
    "if((a>b)and(a>c)):\n",
    "    print(\"The highest number is :%d\" %a)\n",
    "elif(b>c):\n",
    "    print(\"The highest number is :%d\" %b)\n",
    "else:\n",
    "    print(\"The highest number is :%d\" %c)\n",
    "if((a<b)and(a<c)):\n",
    "   print(\"The lowest number is :%d\" %a)\n",
    "elif(b<c):\n",
    "   print(\"The lowest number is :%d\" %b)\n",
    "else:\n",
    "   print(\"The lowest number is :%d\" %c )\n",
    "   \n"
   ]
  },
  {
   "cell_type": "markdown",
   "id": "engaged-dependence",
   "metadata": {},
   "source": [
    "<h1>Problem 8<h1>"
   ]
  },
  {
   "cell_type": "code",
   "execution_count": 6,
   "id": "potential-painting",
   "metadata": {},
   "outputs": [
    {
     "name": "stdout",
     "output_type": "stream",
     "text": [
      "Enter Marks :95\n",
      "A+\n"
     ]
    }
   ],
   "source": [
    "m=int(input(\"Enter Marks :\"))\n",
    "if(m>=80):\n",
    "    print(\"A+\")\n",
    "elif(m>=75 and m<80):\n",
    "    print(\"A\")\n",
    "elif(m>=70 and m<75):\n",
    "    print(\"A-\")\n",
    "elif(m>=65 and m<70):\n",
    "    print(\"B+\")\n",
    "elif(m>=60 and m<65):\n",
    "    print(\"B\")\n",
    "elif(m>=55 and m<60):\n",
    "    print(\"B-\")\n",
    "elif(m>=50 and m<55):\n",
    "    print(\"C+\")\n",
    "elif(m>=45 and m<50):\n",
    "    print(\"C\")\n",
    "elif(m>=40 and m<45):\n",
    "    print(\"D\")\n",
    "else:\n",
    "    print(\"F\")\n",
    "\n"
   ]
  }
 ],
 "metadata": {
  "kernelspec": {
   "display_name": "Python 3",
   "language": "python",
   "name": "python3"
  },
  "language_info": {
   "codemirror_mode": {
    "name": "ipython",
    "version": 3
   },
   "file_extension": ".py",
   "mimetype": "text/x-python",
   "name": "python",
   "nbconvert_exporter": "python",
   "pygments_lexer": "ipython3",
   "version": "3.9.2"
  }
 },
 "nbformat": 4,
 "nbformat_minor": 5
}
