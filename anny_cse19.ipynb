{
 "cells": [
  {
   "cell_type": "markdown",
   "id": "daily-halloween",
   "metadata": {},
   "source": [
    "<h1>Data Types<h1>"
   ]
  },
  {
   "cell_type": "markdown",
   "id": "crucial-exhibition",
   "metadata": {},
   "source": [
    "<h2>*what is data Types<h2>"
   ]
  },
  {
   "cell_type": "markdown",
   "id": "harmful-making",
   "metadata": {},
   "source": [
    "<p>Data Types are the classification or categorization of data items.Data types represents the kind of value that tells what operations can be performed on a particular data.Every value in Python has a datatype. Since everything is an object in Python programming, data types are actually classes and variables are instance (object) of these classes.<p>"
   ]
  },
  {
   "cell_type": "markdown",
   "id": "close-neutral",
   "metadata": {},
   "source": [
    "<h2>*Describe all Data Types with Example<h2>"
   ]
  },
  {
   "cell_type": "markdown",
   "id": "vital-investor",
   "metadata": {},
   "source": [
    "<p>Text Types : str--->x = \"Hello World\"<br>\n",
    "   Numeric Types : int--> x= 27,float-->y= 3.24,complex--> a=4+3j<br>\n",
    "   Sequence Types : list--> x= [2,3,4,5],tuple-->x=(1,2,3) <br>\n",
    "   Mapping Type : dict--> x = {\"name\" : \"Anny\", \"age\" : 20} <br>\n",
    "   Set Types : set-->x = {\"tasbi\", \"Mesbah\", \"Ayan\"} <br>\n",
    "   Boolean Types :bool--> x=True,y=False<br><p>"
   ]
  },
  {
   "cell_type": "markdown",
   "id": "empty-apollo",
   "metadata": {},
   "source": [
    "<h1>Input And Output<h1>"
   ]
  },
  {
   "cell_type": "code",
   "execution_count": 7,
   "id": "genetic-launch",
   "metadata": {},
   "outputs": [
    {
     "name": "stdout",
     "output_type": "stream",
     "text": [
      "TasminAnny\n"
     ]
    }
   ],
   "source": [
    "print(\"Tasmin\" , \"Anny\", sep='')"
   ]
  },
  {
   "cell_type": "code",
   "execution_count": 8,
   "id": "persistent-zoning",
   "metadata": {},
   "outputs": [
    {
     "name": "stdout",
     "output_type": "stream",
     "text": [
      "Tasmin Anny\n"
     ]
    }
   ],
   "source": [
    "print(\"Tasmin\" , \"Anny\", end='\\n')"
   ]
  },
  {
   "cell_type": "markdown",
   "id": "suspected-ability",
   "metadata": {},
   "source": [
    "<p>When we need space in string we can use end='\\n' and when we don't need any space we can use sep=' '<p>"
   ]
  },
  {
   "cell_type": "markdown",
   "id": "fallen-washer",
   "metadata": {},
   "source": [
    "<h1>Operator<h1>"
   ]
  },
  {
   "cell_type": "markdown",
   "id": "demanding-hartford",
   "metadata": {},
   "source": [
    "<h2>*What is a python operator? Describe at least three types of operator<h2>"
   ]
  },
  {
   "cell_type": "markdown",
   "id": "instructional-growing",
   "metadata": {},
   "source": [
    "<h2>Operator<h2>"
   ]
  },
  {
   "cell_type": "markdown",
   "id": "vocational-disposition",
   "metadata": {},
   "source": [
    "<p>Operators are special symbols in Python that carry out arithmetic or logical computation. The value that the operator operates on is called the operand.<p>"
   ]
  },
  {
   "cell_type": "markdown",
   "id": "accepted-glossary",
   "metadata": {},
   "source": [
    "<h2>Types of operator with example:<h2>"
   ]
  },
  {
   "cell_type": "markdown",
   "id": "modular-extraction",
   "metadata": {},
   "source": [
    "<h4> Arithmetic operators : <br> \n",
    "    \n",
    "    \n",
    "\n",
    "   (addtion) \" + \" operator : "
   ]
  },
  {
   "cell_type": "code",
   "execution_count": 3,
   "id": "arranged-fifty",
   "metadata": {},
   "outputs": [
    {
     "name": "stdout",
     "output_type": "stream",
     "text": [
      "5\n"
     ]
    }
   ],
   "source": [
    "print(2+3)"
   ]
  },
  {
   "cell_type": "markdown",
   "id": "static-destination",
   "metadata": {},
   "source": [
    "<h4> Comparison Operators : <br>\n",
    "    \n",
    "    \n",
    "\n",
    "(not equal)\" != \" operator : "
   ]
  },
  {
   "cell_type": "code",
   "execution_count": 4,
   "id": "metric-delay",
   "metadata": {},
   "outputs": [
    {
     "name": "stdout",
     "output_type": "stream",
     "text": [
      "True\n"
     ]
    }
   ],
   "source": [
    "x = 5\n",
    "y = 3\n",
    "\n",
    "print(x != y)"
   ]
  },
  {
   "cell_type": "markdown",
   "id": "electronic-moscow",
   "metadata": {},
   "source": [
    "<h4> Logical Operators : <br>\n",
    "    \n",
    "    \n",
    "\n",
    "\" and \" operator :\n"
   ]
  },
  {
   "cell_type": "code",
   "execution_count": 5,
   "id": "loose-reality",
   "metadata": {},
   "outputs": [
    {
     "name": "stdout",
     "output_type": "stream",
     "text": [
      "True\n"
     ]
    }
   ],
   "source": [
    "x = 5\n",
    "\n",
    "print(x > 3 and x < 10)\n"
   ]
  },
  {
   "cell_type": "markdown",
   "id": "sacred-spirituality",
   "metadata": {},
   "source": [
    " <h1> Problem 1<h1> <br>\n",
    "    \n",
    "    \n",
    "\n",
    "<h4>Define a list with 7 elements and print the 3rd elements of the list<h4>"
   ]
  },
  {
   "cell_type": "code",
   "execution_count": 9,
   "id": "tutorial-tunisia",
   "metadata": {},
   "outputs": [
    {
     "name": "stdout",
     "output_type": "stream",
     "text": [
      "CSE\n"
     ]
    }
   ],
   "source": [
    "my_list = [\"ECE\",\"EEE\" ,\"CSE\",\"PME\", \"ME\" ,\"CE\" ,\"ETE\"]\n",
    "print(my_list[2])"
   ]
  },
  {
   "cell_type": "markdown",
   "id": "ethical-honey",
   "metadata": {},
   "source": [
    "<h1> Problem 2<h1> <br>\n",
    "    "
   ]
  },
  {
   "cell_type": "code",
   "execution_count": 15,
   "id": "proof-terror",
   "metadata": {},
   "outputs": [
    {
     "name": "stdout",
     "output_type": "stream",
     "text": [
      "enter first number: 3\n",
      "enter second number: 5\n",
      "sum: 8\n",
      "sub: -2\n",
      "product: 15\n"
     ]
    }
   ],
   "source": [
    "a = int(input(\"enter first number: \"))\n",
    "b = int(input(\"enter second number: \"))\n",
    "print(\"sum:\", a+b)\n",
    "print(\"sub:\", a-b)\n",
    "print(\"product:\", a*b)\n",
    "\n"
   ]
  },
  {
   "cell_type": "markdown",
   "id": "novel-peeing",
   "metadata": {},
   "source": [
    "<h1>Problem 3<h1>"
   ]
  },
  {
   "cell_type": "code",
   "execution_count": 2,
   "id": "intelligent-poverty",
   "metadata": {},
   "outputs": [
    {
     "name": "stdout",
     "output_type": "stream",
     "text": [
      "enter first input: 3\n",
      "enter second input: 5\n",
      "0\n",
      "0.6\n"
     ]
    }
   ],
   "source": [
    "a = int(input(\"enter first input: \"))\n",
    "b = int(input(\"enter second input: \"))\n",
    "x = int(a/b)\n",
    "y= float(a/b)\n",
    "print(x)\n",
    "print(y)"
   ]
  },
  {
   "cell_type": "markdown",
   "id": "architectural-apparatus",
   "metadata": {},
   "source": [
    "<h1>Problem 4<h1>"
   ]
  },
  {
   "cell_type": "code",
   "execution_count": 3,
   "id": "upper-distribution",
   "metadata": {},
   "outputs": [
    {
     "name": "stdout",
     "output_type": "stream",
     "text": [
      "Red\n",
      "Black\n"
     ]
    }
   ],
   "source": [
    "color_list=[\"Red\",\"Green\",\"White\",\"Black\"]\n",
    "first_color = \"Red\"\n",
    "last_color = \"Black\"\n",
    "print(color_list[0])\n",
    "print(color_list[3])"
   ]
  },
  {
   "cell_type": "markdown",
   "id": "rolled-carroll",
   "metadata": {},
   "source": [
    "<h1>Problem 5<h1>"
   ]
  },
  {
   "cell_type": "code",
   "execution_count": 8,
   "id": "pleasant-joining",
   "metadata": {},
   "outputs": [
    {
     "name": "stdout",
     "output_type": "stream",
     "text": [
      "a string you \"don`t\" have to escape\n",
      "           This\n",
      "     is a......... multiline\n",
      "heredoc string --------> example\n"
     ]
    }
   ],
   "source": [
    "print('a string you \"don`t\" have to escape',\"           This\", \"     is a......... multiline\",\"heredoc string --------> example\",sep=\"\\n\")"
   ]
  },
  {
   "cell_type": "markdown",
   "id": "wooden-significance",
   "metadata": {},
   "source": [
    "<h1>Problem 6<h1>"
   ]
  },
  {
   "cell_type": "code",
   "execution_count": 10,
   "id": "basic-mustang",
   "metadata": {},
   "outputs": [
    {
     "name": "stdout",
     "output_type": "stream",
     "text": [
      "Enter base : 2\n",
      "Enter height : 3\n",
      "3.0\n"
     ]
    }
   ],
   "source": [
    "b= int(input(\"Enter base : \"))\n",
    "h= int(input(\"Enter height : \"))\n",
    "a=0.5*b*h\n",
    "print(a)\n"
   ]
  },
  {
   "cell_type": "markdown",
   "id": "honey-presentation",
   "metadata": {},
   "source": [
    "<h1>Problem 7<h1>"
   ]
  },
  {
   "cell_type": "code",
   "execution_count": 24,
   "id": "palestinian-shelter",
   "metadata": {},
   "outputs": [
    {
     "name": "stdout",
     "output_type": "stream",
     "text": [
      "name    :  Jabin Tasmin Anny\n",
      "age     :  20\n",
      "address : Akkelpur,Joypurhat\n"
     ]
    }
   ],
   "source": [
    "print(\"name    :  Jabin Tasmin Anny\",\n",
    "      \"age     :  20\",\n",
    "      \"address : Akkelpur,Joypurhat\",sep=\"\\n\")"
   ]
  },
  {
   "cell_type": "markdown",
   "id": "acquired-fireplace",
   "metadata": {},
   "source": [
    "<h1>Problem 8<h1>"
   ]
  },
  {
   "cell_type": "code",
   "execution_count": 7,
   "id": "tropical-variety",
   "metadata": {},
   "outputs": [
    {
     "name": "stdout",
     "output_type": "stream",
     "text": [
      "Enter the principle amount : 10000\n",
      "Enter the rate  : 3.5\n",
      "Enter the time span : 1\n",
      "amount : 10350.00 \n"
     ]
    }
   ],
   "source": [
    "p = float(input(\"Enter the principle amount : \"))\n",
    "r = float(input(\"Enter the rate  : \"))\n",
    "t = float(input(\"Enter the time span : \"))\n",
    "c=r/100\n",
    "A=(p * (1 + c)**t)\n",
    "print(\"amount : %.2f \" %A)\n"
   ]
  },
  {
   "cell_type": "code",
   "execution_count": 8,
   "id": "varied-myrtle",
   "metadata": {},
   "outputs": [
    {
     "name": "stdout",
     "output_type": "stream",
     "text": [
      "Compound Interest : 350.00 \n"
     ]
    }
   ],
   "source": [
    "ci=A-p\n",
    "   \n",
    "print(\"Compound Interest : %.2f \" %ci)"
   ]
  },
  {
   "cell_type": "markdown",
   "id": "hybrid-heart",
   "metadata": {},
   "source": [
    "<h1>Problem 9<h1>"
   ]
  },
  {
   "cell_type": "code",
   "execution_count": 10,
   "id": "described-kernel",
   "metadata": {},
   "outputs": [
    {
     "name": "stdout",
     "output_type": "stream",
     "text": [
      "* * * * *\n",
      " * * * * \n",
      "  * * *  \n",
      "   * *   \n",
      "    *   \n"
     ]
    }
   ],
   "source": [
    "print(\"* * * * *\",\" * * * * \",\"  * * *  \",\"   * *   \",\"    *   \",sep=\"\\n\")"
   ]
  },
  {
   "cell_type": "markdown",
   "id": "grand-guyana",
   "metadata": {},
   "source": [
    "<h1>Problem 10<h1>"
   ]
  },
  {
   "cell_type": "code",
   "execution_count": 6,
   "id": "touched-petroleum",
   "metadata": {},
   "outputs": [
    {
     "name": "stdout",
     "output_type": "stream",
     "text": [
      "Enter temperature in Celsius: 38\n",
      "fahrenheit : 100.40\n"
     ]
    }
   ],
   "source": [
    "c = float(input(\"Enter temperature in Celsius: \" ))\n",
    "F = (c * 1.8) + 32\n",
    "print(\"fahrenheit : %.2f\" %F)"
   ]
  },
  {
   "cell_type": "code",
   "execution_count": null,
   "id": "fresh-hollow",
   "metadata": {},
   "outputs": [],
   "source": []
  }
 ],
 "metadata": {
  "kernelspec": {
   "display_name": "Python 3",
   "language": "python",
   "name": "python3"
  },
  "language_info": {
   "codemirror_mode": {
    "name": "ipython",
    "version": 3
   },
   "file_extension": ".py",
   "mimetype": "text/x-python",
   "name": "python",
   "nbconvert_exporter": "python",
   "pygments_lexer": "ipython3",
   "version": "3.9.2"
  }
 },
 "nbformat": 4,
 "nbformat_minor": 5
}
